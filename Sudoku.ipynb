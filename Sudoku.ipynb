{
 "cells": [
  {
   "cell_type": "code",
   "execution_count": 1,
   "metadata": {},
   "outputs": [],
   "source": [
    "import numpy as np\n",
    "from sudoku_solver import SudokuSolver"
   ]
  },
  {
   "cell_type": "code",
   "execution_count": 2,
   "metadata": {
    "scrolled": true
   },
   "outputs": [
    {
     "name": "stdout",
     "output_type": "stream",
     "text": [
      "[[5 3 0 0 7 0 0 0 0]\n",
      " [6 0 0 1 9 5 0 0 0]\n",
      " [0 9 8 0 0 0 0 6 0]\n",
      " [8 0 0 0 6 0 0 0 3]\n",
      " [4 0 0 8 0 3 0 0 1]\n",
      " [7 0 0 0 2 0 0 0 6]\n",
      " [0 6 0 0 0 0 2 8 0]\n",
      " [0 0 0 4 1 9 0 0 5]\n",
      " [0 0 0 0 8 0 0 7 9]]\n"
     ]
    }
   ],
   "source": [
    "grid = np.array(\\\n",
    "               [[5, 3, 0, 0, 7, 0, 0, 0, 0],\n",
    "                [6, 0, 0, 1, 9, 5, 0, 0, 0],\n",
    "                [0, 9, 8, 0, 0, 0, 0, 6, 0],\n",
    "                [8, 0, 0, 0, 6, 0, 0, 0, 3],\n",
    "                [4, 0, 0, 8, 0, 3, 0, 0, 1],\n",
    "                [7, 0, 0, 0, 2, 0, 0, 0, 6],\n",
    "                [0, 6, 0, 0, 0, 0, 2, 8, 0],\n",
    "                [0, 0, 0, 4, 1, 9, 0, 0, 5],\n",
    "                [0, 0, 0, 0, 8, 0, 0, 7, 9]])\n",
    "print grid"
   ]
  },
  {
   "cell_type": "code",
   "execution_count": 3,
   "metadata": {},
   "outputs": [],
   "source": [
    "s = SudokuSolver(grid=grid)"
   ]
  },
  {
   "cell_type": "code",
   "execution_count": 4,
   "metadata": {
    "scrolled": true
   },
   "outputs": [
    {
     "name": "stdout",
     "output_type": "stream",
     "text": [
      "1 loop, best of 3: 343 ms per loop\n"
     ]
    }
   ],
   "source": [
    "%%timeit\n",
    "s.solve(0)\n",
    "s.solutions"
   ]
  },
  {
   "cell_type": "code",
   "execution_count": 5,
   "metadata": {
    "scrolled": true
   },
   "outputs": [
    {
     "name": "stdout",
     "output_type": "stream",
     "text": [
      "1 loop, best of 3: 330 ms per loop\n"
     ]
    }
   ],
   "source": [
    "%%timeit\n",
    "s.solve(1)\n",
    "s.solutions"
   ]
  },
  {
   "cell_type": "code",
   "execution_count": 6,
   "metadata": {
    "scrolled": true
   },
   "outputs": [
    {
     "name": "stdout",
     "output_type": "stream",
     "text": [
      "10 loops, best of 3: 153 ms per loop\n"
     ]
    }
   ],
   "source": [
    "%%timeit\n",
    "s.solve(2)\n",
    "s.solutions"
   ]
  },
  {
   "cell_type": "code",
   "execution_count": 11,
   "metadata": {},
   "outputs": [
    {
     "data": {
      "text/plain": [
       "array([[5, 3, 0, 0, 7, 0, 0, 0, 0],\n",
       "       [6, 0, 0, 1, 9, 5, 0, 0, 0],\n",
       "       [0, 9, 8, 0, 0, 0, 0, 6, 0],\n",
       "       [8, 0, 0, 0, 6, 0, 0, 0, 3],\n",
       "       [4, 0, 0, 8, 0, 3, 0, 0, 1],\n",
       "       [7, 0, 0, 0, 2, 0, 0, 0, 6],\n",
       "       [0, 6, 0, 0, 0, 0, 2, 8, 0],\n",
       "       [0, 0, 0, 4, 1, 9, 0, 0, 5],\n",
       "       [0, 0, 0, 0, 8, 0, 0, 7, 9]])"
      ]
     },
     "execution_count": 11,
     "metadata": {},
     "output_type": "execute_result"
    }
   ],
   "source": [
    "s.grid"
   ]
  },
  {
   "cell_type": "code",
   "execution_count": 12,
   "metadata": {},
   "outputs": [
    {
     "data": {
      "text/plain": [
       "[array([[5, 3, 4, 6, 7, 8, 9, 1, 2],\n",
       "        [6, 7, 2, 1, 9, 5, 3, 4, 8],\n",
       "        [1, 9, 8, 3, 4, 2, 5, 6, 7],\n",
       "        [8, 5, 9, 7, 6, 1, 4, 2, 3],\n",
       "        [4, 2, 6, 8, 5, 3, 7, 9, 1],\n",
       "        [7, 1, 3, 9, 2, 4, 8, 5, 6],\n",
       "        [9, 6, 1, 5, 3, 7, 2, 8, 4],\n",
       "        [2, 8, 7, 4, 1, 9, 6, 3, 5],\n",
       "        [3, 4, 5, 2, 8, 6, 1, 7, 9]])]"
      ]
     },
     "execution_count": 12,
     "metadata": {},
     "output_type": "execute_result"
    }
   ],
   "source": [
    "s.solutions"
   ]
  },
  {
   "cell_type": "code",
   "execution_count": null,
   "metadata": {},
   "outputs": [],
   "source": []
  }
 ],
 "metadata": {
  "kernelspec": {
   "display_name": "Python 2",
   "language": "python",
   "name": "python2"
  },
  "language_info": {
   "codemirror_mode": {
    "name": "ipython",
    "version": 2
   },
   "file_extension": ".py",
   "mimetype": "text/x-python",
   "name": "python",
   "nbconvert_exporter": "python",
   "pygments_lexer": "ipython2",
   "version": "2.7.17"
  }
 },
 "nbformat": 4,
 "nbformat_minor": 2
}
