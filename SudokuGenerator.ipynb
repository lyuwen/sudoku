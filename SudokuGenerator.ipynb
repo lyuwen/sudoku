{
 "cells": [
  {
   "cell_type": "code",
   "execution_count": 1,
   "metadata": {},
   "outputs": [],
   "source": [
    "import numpy as np\n",
    "#\n",
    "from sudoku_solver import SudokuSolver\n",
    "from sudoku import Sudoku\n",
    "from utils import timeout"
   ]
  },
  {
   "cell_type": "code",
   "execution_count": 2,
   "metadata": {
    "scrolled": true
   },
   "outputs": [],
   "source": [
    "s = Sudoku()"
   ]
  },
  {
   "cell_type": "code",
   "execution_count": 3,
   "metadata": {
    "scrolled": false
   },
   "outputs": [
    {
     "data": {
      "text/plain": [
       "array([[1, 2, 3, 4, 9, 6, 5, 7, 8],\n",
       "       [4, 5, 6, 1, 7, 8, 3, 2, 9],\n",
       "       [7, 8, 9, 2, 3, 5, 1, 4, 6],\n",
       "       [2, 1, 5, 3, 6, 7, 8, 9, 4],\n",
       "       [3, 4, 7, 8, 1, 9, 2, 6, 5],\n",
       "       [6, 9, 8, 5, 2, 4, 7, 1, 3],\n",
       "       [5, 3, 1, 6, 4, 2, 9, 8, 7],\n",
       "       [9, 6, 2, 7, 8, 3, 4, 5, 1],\n",
       "       [8, 7, 4, 9, 5, 1, 6, 3, 2]])"
      ]
     },
     "execution_count": 3,
     "metadata": {},
     "output_type": "execute_result"
    }
   ],
   "source": [
    "random_grid = s.random_grid()\n",
    "random_grid"
   ]
  },
  {
   "cell_type": "code",
   "execution_count": 4,
   "metadata": {},
   "outputs": [
    {
     "data": {
      "text/plain": [
       "array([[0, 0, 0, 0, 9, 0, 0, 0, 0],\n",
       "       [0, 0, 0, 0, 0, 0, 0, 2, 0],\n",
       "       [0, 0, 0, 0, 0, 5, 0, 0, 0],\n",
       "       [2, 0, 0, 0, 0, 0, 0, 0, 4],\n",
       "       [0, 0, 0, 0, 0, 0, 0, 0, 0],\n",
       "       [0, 0, 0, 0, 0, 0, 0, 0, 0],\n",
       "       [0, 0, 0, 0, 0, 0, 0, 0, 0],\n",
       "       [0, 0, 0, 0, 0, 0, 0, 0, 0],\n",
       "       [0, 0, 4, 0, 0, 0, 0, 0, 0]])"
      ]
     },
     "execution_count": 4,
     "metadata": {},
     "output_type": "execute_result"
    }
   ],
   "source": [
    "s.random_seed"
   ]
  },
  {
   "cell_type": "code",
   "execution_count": 5,
   "metadata": {
    "scrolled": true
   },
   "outputs": [
    {
     "data": {
      "text/plain": [
       "array([[1, 2, 3, 4, 9, 6, 5, 7, 8],\n",
       "       [4, 5, 6, 1, 7, 8, 3, 2, 9],\n",
       "       [7, 8, 9, 2, 3, 5, 1, 4, 6],\n",
       "       [2, 1, 5, 3, 6, 7, 8, 9, 4],\n",
       "       [3, 4, 7, 8, 1, 9, 2, 6, 5],\n",
       "       [6, 9, 8, 5, 2, 4, 7, 1, 3],\n",
       "       [5, 3, 1, 6, 4, 2, 9, 8, 7],\n",
       "       [9, 6, 2, 7, 8, 3, 4, 5, 1],\n",
       "       [8, 7, 4, 9, 5, 1, 6, 3, 2]])"
      ]
     },
     "execution_count": 5,
     "metadata": {},
     "output_type": "execute_result"
    }
   ],
   "source": [
    "s.grid"
   ]
  },
  {
   "cell_type": "code",
   "execution_count": 6,
   "metadata": {
    "scrolled": true
   },
   "outputs": [
    {
     "data": {
      "text/plain": [
       "array([[3, 6, 1, 9, 4, 8, 2, 5, 7],\n",
       "       [9, 2, 8, 3, 5, 7, 1, 6, 4],\n",
       "       [5, 7, 4, 6, 1, 2, 3, 9, 8],\n",
       "       [6, 3, 2, 1, 8, 5, 7, 4, 9],\n",
       "       [1, 9, 5, 7, 3, 4, 6, 8, 2],\n",
       "       [8, 4, 7, 2, 6, 9, 5, 3, 1],\n",
       "       [2, 1, 3, 8, 9, 6, 4, 7, 5],\n",
       "       [4, 8, 6, 5, 7, 1, 9, 2, 3],\n",
       "       [7, 5, 9, 4, 2, 3, 8, 1, 6]])"
      ]
     },
     "execution_count": 6,
     "metadata": {},
     "output_type": "execute_result"
    }
   ],
   "source": [
    "s.randomize_token()"
   ]
  },
  {
   "cell_type": "code",
   "execution_count": 7,
   "metadata": {},
   "outputs": [
    {
     "data": {
      "text/plain": [
       "array([0, 3, 6, 1, 9, 2, 8, 5, 7, 4])"
      ]
     },
     "execution_count": 7,
     "metadata": {},
     "output_type": "execute_result"
    }
   ],
   "source": [
    "s.token"
   ]
  },
  {
   "cell_type": "code",
   "execution_count": null,
   "metadata": {},
   "outputs": [],
   "source": []
  }
 ],
 "metadata": {
  "kernelspec": {
   "display_name": "Python 2",
   "language": "python",
   "name": "python2"
  },
  "language_info": {
   "codemirror_mode": {
    "name": "ipython",
    "version": 2
   },
   "file_extension": ".py",
   "mimetype": "text/x-python",
   "name": "python",
   "nbconvert_exporter": "python",
   "pygments_lexer": "ipython2",
   "version": "2.7.17"
  }
 },
 "nbformat": 4,
 "nbformat_minor": 2
}
